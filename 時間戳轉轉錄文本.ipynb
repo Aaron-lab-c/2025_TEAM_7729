{
 "cells": [
  {
   "cell_type": "code",
   "execution_count": null,
   "id": "71e99d99",
   "metadata": {},
   "outputs": [],
   "source": [
    "import json\n",
    "\n",
    "# 讀取 JSON 檔案\n",
    "with open(\"task1_answer_timestamps.json\", \"r\", encoding=\"utf-8\") as f:\n",
    "    data = json.load(f)\n",
    "\n",
    "# 開啟輸出文字檔\n",
    "with open(\"task1_answer.txt\", \"w\", encoding=\"utf-8\") as f_out:\n",
    "    for id_str, content in data.items():\n",
    "        for segment in content.get(\"segments\", []):\n",
    "            text = segment.get(\"text\", \"\").strip()\n",
    "            if(text==None):\n",
    "                continue\n",
    "            # 寫入一行：編號 \\t 文字\n",
    "            f_out.write(f\"{id_str}\\t{text}\\n\")\n"
   ]
  },
  {
   "cell_type": "code",
   "execution_count": null,
   "id": "85591ef2",
   "metadata": {},
   "outputs": [
    {
     "name": "stdout",
     "output_type": "stream",
     "text": [
      "共有 3 筆資料的 segments 超過 1。\n",
      "71100 有 2 段文字\n",
      "72611 有 2 段文字\n",
      "84337 有 2 段文字\n"
     ]
    }
   ],
   "source": [
    "import json\n",
    "\n",
    "# 讀取原始 JSON\n",
    "with open(\"task1_answer_timestamps.json\", \"r\", encoding=\"utf-8\") as f:\n",
    "    data = json.load(f)\n",
    "\n",
    "# 找出有多個 segments 的 ID\n",
    "multi_segment_ids = {\n",
    "    id_str: content[\"segments\"]\n",
    "    for id_str, content in data.items()\n",
    "    if len(content.get(\"segments\", [])) > 1\n",
    "}\n",
    "\n",
    "# 顯示統計\n",
    "print(f\"共有 {len(multi_segment_ids)} 筆資料的 segments 超過 1。\")\n",
    "\n",
    "# 列出這些 ID 和它們的 segment 數量\n",
    "for id_str, segments in multi_segment_ids.items():\n",
    "    print(f\"{id_str} 有 {len(segments)} 段文字\")\n"
   ]
  }
 ],
 "metadata": {
  "kernelspec": {
   "display_name": "DataMining",
   "language": "python",
   "name": "python3"
  },
  "language_info": {
   "codemirror_mode": {
    "name": "ipython",
    "version": 3
   },
   "file_extension": ".py",
   "mimetype": "text/x-python",
   "name": "python",
   "nbconvert_exporter": "python",
   "pygments_lexer": "ipython3",
   "version": "3.11.5"
  }
 },
 "nbformat": 4,
 "nbformat_minor": 5
}
