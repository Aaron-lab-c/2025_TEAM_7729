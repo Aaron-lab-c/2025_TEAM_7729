{
 "cells": [
  {
   "cell_type": "code",
   "execution_count": null,
   "id": "f7f559c0",
   "metadata": {},
   "outputs": [
    {
     "name": "stdout",
     "output_type": "stream",
     "text": [
      "所有 ID 處理完成，已將結果儲存在：./task1_answer_timestamps_cleaned.json\n"
     ]
    }
   ],
   "source": [
    "import json\n",
    "import string\n",
    "from copy import deepcopy\n",
    "import pandas as pd\n",
    "\n",
    "input_filename = \"./task1_answer_timestamps.json\"\n",
    "output_filename = \"./task1_answer_timestamps_cleaned.json\"\n",
    "\n",
    "with open(input_filename, \"r\", encoding=\"utf-8\") as f:\n",
    "    data = json.load(f)\n",
    "\n",
    "\n",
    "cleaned_data = deepcopy(data)\n",
    "\n",
    "# 3. 定義去除標點函數\n",
    "def strip_punctuation(word):\n",
    "    return word.strip(string.punctuation)\n",
    "\n",
    "# 4. 遍歷所有 ID 鍵，並且對每個 segment 中的每個 word 去除首尾標點\n",
    "for record in cleaned_data.values():\n",
    "    for segment in record.get(\"segments\", []):\n",
    "        for w in segment.get(\"words\", []):\n",
    "            if w[\"word\"] == \"Dr.\":\n",
    "                continue\n",
    "            w[\"word\"] = strip_punctuation(w[\"word\"])\n",
    "\n",
    "# 5. 寫回到新的 JSON 文件\n",
    "with open(output_filename, \"w\", encoding=\"utf-8\") as f:\n",
    "    json.dump(cleaned_data, f, indent=2, ensure_ascii=False)\n",
    "\n",
    "# 6. 顯示示例：展示第一個 ID 的原始 vs 清洗後前 10 個詞\n",
    "first_id = list(data.keys())[0]\n",
    "original_words = [w[\"word\"] for w in data[first_id][\"segments\"][0][\"words\"]][:10]\n",
    "cleaned_words = [w[\"word\"] for w in cleaned_data[first_id][\"segments\"][0][\"words\"]][:10]\n",
    "\n",
    "df = pd.DataFrame({\n",
    "    \"Original Word\": original_words,\n",
    "    \"Cleaned Word\": cleaned_words\n",
    "})\n",
    "\n",
    "\n",
    "print(f\"所有 ID 處理完成，已將結果儲存在：{output_filename}\")\n"
   ]
  }
 ],
 "metadata": {
  "kernelspec": {
   "display_name": "DataMining",
   "language": "python",
   "name": "python3"
  },
  "language_info": {
   "codemirror_mode": {
    "name": "ipython",
    "version": 3
   },
   "file_extension": ".py",
   "mimetype": "text/x-python",
   "name": "python",
   "nbconvert_exporter": "python",
   "pygments_lexer": "ipython3",
   "version": "3.11.5"
  }
 },
 "nbformat": 4,
 "nbformat_minor": 5
}
